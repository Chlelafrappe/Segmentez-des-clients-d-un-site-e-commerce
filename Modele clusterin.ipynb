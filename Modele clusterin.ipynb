{
 "cells": [
  {
   "cell_type": "code",
   "execution_count": 1,
   "metadata": {},
   "outputs": [
    {
     "name": "stderr",
     "output_type": "stream",
     "text": [
      "/Users/chloeroudaut/anaconda3/envs/myenv/lib/python3.11/site-packages/pandas/core/arrays/masked.py:60: UserWarning: Pandas requires version '1.3.6' or newer of 'bottleneck' (version '1.3.5' currently installed).\n",
      "  from pandas.core import (\n"
     ]
    }
   ],
   "source": [
    "import os\n",
    "\n",
    "import pandas as pd\n",
    "import numpy as np\n",
    "from math import radians, cos, sin, asin, sqrt\n",
    "\n",
    "import matplotlib.pyplot as plt\n",
    "import matplotlib.dates as mdates\n",
    "import matplotlib.image as mpimg\n",
    "import urllib.request\n",
    "import seaborn as sns\n",
    "import plotly.express as px\n",
    "import folium\n",
    "from random import sample\n",
    "import geopandas as gpd\n",
    "\n",
    "from datetime import datetime\n",
    "from sklearn.preprocessing import StandardScaler, LabelEncoder, MinMaxScaler\n",
    "from sklearn.decomposition import PCA\n",
    "\n",
    "import warnings\n",
    "warnings.filterwarnings(\"ignore\")\n",
    "\n",
    "import pandas as pd\n",
    "import numpy as np\n",
    "from sklearn.preprocessing import StandardScaler\n",
    "from sklearn.cluster import KMeans\n",
    "import matplotlib.pyplot as plt\n",
    "from sklearn.metrics import silhouette_score"
   ]
  },
  {
   "cell_type": "code",
   "execution_count": 2,
   "metadata": {},
   "outputs": [],
   "source": [
    "data = pd.read_csv('scaled_features.csv')"
   ]
  },
  {
   "cell_type": "code",
   "execution_count": 3,
   "metadata": {},
   "outputs": [
    {
     "data": {
      "text/plain": [
       "Index(['customer_id', 'recency', 'frequency', 'monetary', 'avg_order_value',\n",
       "       'std_order_value', 'unique_products_count', 'avg_delivery_time',\n",
       "       'avg_review_score', 'installment_payment_count'],\n",
       "      dtype='object')"
      ]
     },
     "execution_count": 3,
     "metadata": {},
     "output_type": "execute_result"
    }
   ],
   "source": [
    "data.columns"
   ]
  },
  {
   "cell_type": "code",
   "execution_count": 4,
   "metadata": {},
   "outputs": [],
   "source": [
    "# 2. Préparation des données\n",
    "# Sélection des features pour le clustering (excluons customer_id)\n",
    "features = ['recency', 'frequency', 'monetary', 'avg_order_value', 'std_order_value', \n",
    "            'unique_products_count', 'avg_delivery_time', 'avg_review_score', 'installment_payment_count']\n",
    "\n",
    "X = data[features]\n",
    "\n",
    "# 3. Normalisation des données\n",
    "scaler = StandardScaler()\n",
    "X_scaled = scaler.fit_transform(X)"
   ]
  },
  {
   "cell_type": "markdown",
   "metadata": {},
   "source": [
    "### KMEANS"
   ]
  },
  {
   "cell_type": "code",
   "execution_count": 5,
   "metadata": {},
   "outputs": [],
   "source": [
    "# 4. K-means clustering\n",
    "# Nous allons essayer avec 3 à 6 clusters\n",
    "n_clusters_range = range(3, 7)\n",
    "inertias = []\n",
    "silhouette_scores = []\n",
    "\n"
   ]
  },
  {
   "cell_type": "code",
   "execution_count": 6,
   "metadata": {},
   "outputs": [],
   "source": [
    "sample_size = 10000  # Ajustez selon vos besoins\n",
    "X_sample = X_scaled[np.random.choice(X_scaled.shape[0], sample_size, replace=False)]\n",
    "\n",
    "for n_clusters in n_clusters_range:\n",
    "    kmeans = KMeans(n_clusters=n_clusters, random_state=42)\n",
    "    kmeans.fit(X_sample)\n",
    "    inertias.append(kmeans.inertia_)\n",
    "    silhouette_scores.append(silhouette_score(X_sample, kmeans.labels_))"
   ]
  },
  {
   "cell_type": "code",
   "execution_count": null,
   "metadata": {},
   "outputs": [],
   "source": [
    "\n",
    "# 6. Choix du nombre optimal de clusters\n",
    "# Basé sur les graphiques, choisissez le nombre optimal de clusters\n",
    "optimal_clusters = 4  # À ajuster en fonction des résultats\n",
    "\n",
    "# 7. Application du K-means final\n",
    "final_kmeans = KMeans(n_clusters=optimal_clusters, random_state=42)\n",
    "cluster_labels = final_kmeans.fit_predict(X_scaled)\n",
    "\n",
    "# 8. Ajout des labels de cluster au DataFrame original\n",
    "data['Cluster'] = cluster_labels\n",
    "\n",
    "# 9. Analyse des clusters\n",
    "for cluster in range(optimal_clusters):\n",
    "    cluster_data = data[data['Cluster'] == cluster]\n",
    "    print(f\"\\nCluster {cluster}:\")\n",
    "    print(cluster_data[features].mean())\n",
    "\n",
    "# 10. Visualisation 2D (utilisant les deux premières features comme exemple)\n",
    "plt.figure(figsize=(10, 8))\n",
    "scatter = plt.scatter(X_scaled[:, 0], X_scaled[:, 1], c=cluster_labels, cmap='viridis')\n",
    "plt.xlabel(features[0])\n",
    "plt.ylabel(features[1])\n",
    "plt.title('Clusters K-means')\n",
    "plt.colorbar(scatter)\n",
    "plt.show()"
   ]
  },
  {
   "cell_type": "markdown",
   "metadata": {},
   "source": [
    "Cluster 0 : \"Clients satisfaits mais lents\"\n",
    "\n",
    "Caractéristiques principales : Temps de livraison très long (0.891222), satisfaction client très basse (-1.867674)\n",
    "Comportement : Proche de la moyenne sur la plupart des autres métriques\n",
    "Interprétation : Ces clients semblent tolérer des temps de livraison longs, mais cela affecte négativement leur satisfaction. Ils restent des clients moyens en termes de fréquence et de valeur monétaire.\n",
    "\n",
    "\n",
    "Cluster 1 : \"Clients récents et satisfaits\"\n",
    "\n",
    "Caractéristiques principales : Récence très élevée (0.992312), satisfaction client au-dessus de la moyenne (0.372376)\n",
    "Comportement : Légèrement en dessous de la moyenne pour la fréquence et la valeur monétaire\n",
    "Interprétation : Ce groupe semble représenter des clients récents, potentiellement des nouveaux clients, qui sont satisfaits de leur expérience mais n'ont pas encore établi un historique d'achat important.\n",
    "\n",
    "\n",
    "Cluster 2 : \"Clients VIP à haute valeur\"\n",
    "\n",
    "Caractéristiques principales : Fréquence très élevée (2.518793), valeur monétaire élevée (1.518417), grande variété de produits achetés (3.597001)\n",
    "Comportement : Au-dessus de la moyenne sur presque toutes les métriques, sauf la satisfaction client (-0.484530)\n",
    "Interprétation : Ce sont vos clients les plus précieux, qui achètent fréquemment, dépensent beaucoup et achètent une grande variété de produits. Cependant, leur satisfaction est légèrement inférieure à la moyenne, ce qui pourrait être un point d'attention.\n",
    "\n",
    "\n",
    "Cluster 3 : \"Clients anciens et satisfaits\"\n",
    "\n",
    "Caractéristiques principales : Récence très basse (-0.755499), satisfaction client au-dessus de la moyenne (0.409067)\n",
    "Comportement : Légèrement en dessous de la moyenne pour la plupart des autres métriques\n",
    "Interprétation : Ces clients n'ont pas acheté récemment, mais restent satisfaits. Ils pourraient être des clients fidèles qui n'ont pas eu besoin de faire un achat récemment, ou des clients à risque de churn malgré leur satisfaction.\n",
    "Recommandations :\n",
    "\n",
    "\n",
    "Pour le Cluster 0 : Améliorez les temps de livraison pour augmenter la satisfaction client.\n",
    "\n",
    "Pour le Cluster 1 : Concentrez-vous sur la rétention et l'augmentation de la valeur de ces nouveaux clients satisfaits.\n",
    "\n",
    "Pour le Cluster 2 : Investiguer pourquoi ces clients VIP ont une satisfaction inférieure à la moyenne et mettez en place des actions pour l'améliorer.\n",
    "\n",
    "Pour le Cluster 3 : Lancez une campagne de réactivation pour encourager ces clients satisfaits à faire de nouveaux achats.\n",
    "\n",
    "Cette segmentation vous permet de cibler vos efforts marketing et d'amélioration de service en fonction des caractéristiques spécifiques de chaque groupe de clients.\n"
   ]
  },
  {
   "cell_type": "code",
   "execution_count": null,
   "metadata": {},
   "outputs": [],
   "source": [
    "import seaborn as sns\n",
    "\n",
    "features_to_plot = ['recency', 'frequency', 'monetary']\n",
    "sns.pairplot(data[features_to_plot + ['Cluster']], hue='Cluster', plot_kws={'alpha': 0.5})\n",
    "plt.show()"
   ]
  },
  {
   "cell_type": "code",
   "execution_count": null,
   "metadata": {},
   "outputs": [],
   "source": [
    "from math import pi\n",
    "\n",
    "def make_spider(df, row, title, color):\n",
    "    categories = list(df.columns)\n",
    "    N = len(categories)\n",
    "    angles = [n / float(N) * 2 * pi for n in range(N)]\n",
    "    angles += angles[:1]\n",
    "    \n",
    "    ax = plt.subplot(2, 2, row+1, polar=True)\n",
    "    ax.set_theta_offset(pi / 2)\n",
    "    ax.set_theta_direction(-1)\n",
    "    plt.xticks(angles[:-1], categories)\n",
    "    ax.set_title(title)\n",
    "    \n",
    "    values = df.loc[row].values.flatten().tolist()\n",
    "    values += values[:1]\n",
    "    ax.plot(angles, values, color=color, linewidth=2, linestyle='solid')\n",
    "    ax.fill(angles, values, color=color, alpha=0.4)\n",
    "\n",
    "# Préparer les données\n",
    "cluster_means = data.groupby('Cluster')[features].mean()\n",
    "cluster_means_scaled = (cluster_means - cluster_means.min()) / (cluster_means.max() - cluster_means.min())\n",
    "\n",
    "# Créer le plot\n",
    "plt.figure(figsize=(12, 10))\n",
    "colors = ['b', 'g', 'r', 'y']\n",
    "for i in range(4):\n",
    "    make_spider(cluster_means_scaled, i, f'Cluster {i}', colors[i])\n",
    "plt.tight_layout()\n",
    "plt.show()"
   ]
  },
  {
   "cell_type": "code",
   "execution_count": null,
   "metadata": {},
   "outputs": [],
   "source": [
    "cluster_means = data.groupby('Cluster')[features].mean()\n",
    "plt.figure(figsize=(12, 8))\n",
    "sns.heatmap(cluster_means, annot=True, cmap='YlGnBu', fmt='.2f')\n",
    "plt.title('Cluster Means Heatmap')\n",
    "plt.show()"
   ]
  },
  {
   "cell_type": "code",
   "execution_count": null,
   "metadata": {},
   "outputs": [],
   "source": [
    "plt.figure(figsize=(12, 6))\n",
    "for feature in ['recency', 'frequency', 'monetary']:\n",
    "    plt.subplot(1, 3, features.index(feature) + 1)\n",
    "    for cluster in range(4):\n",
    "        sns.histplot(data[data['Cluster'] == cluster][feature], \n",
    "                     label=f'Cluster {cluster}', kde=True, alpha=0.5)\n",
    "    plt.title(feature)\n",
    "    plt.legend()\n",
    "plt.tight_layout()\n",
    "plt.show()"
   ]
  },
  {
   "cell_type": "markdown",
   "metadata": {},
   "source": [
    "### DBSCAN"
   ]
  },
  {
   "cell_type": "code",
   "execution_count": null,
   "metadata": {},
   "outputs": [],
   "source": [
    "from sklearn.cluster import DBSCAN\n",
    "from sklearn.neighbors import NearestNeighbors\n",
    "import numpy as np\n",
    "import matplotlib.pyplot as plt\n",
    "import seaborn as sns\n",
    "\n",
    "# Supposons que X_scaled contient vos données normalisées\n",
    "\n",
    "# 1. Estimation du paramètre eps\n",
    "neighbors = NearestNeighbors(n_neighbors=4)\n",
    "neighbors_fit = neighbors.fit(X_scaled)\n",
    "distances, indices = neighbors_fit.kneighbors(X_scaled)\n",
    "distances = np.sort(distances, axis=0)\n",
    "distances = distances[:,1]\n",
    "plt.plot(distances)\n",
    "plt.title('K-distance Graph')\n",
    "plt.xlabel('Data Points sorted by distance')\n",
    "plt.ylabel('Epsilon')\n",
    "plt.show()\n",
    "\n",
    "# Choisissez eps en fonction du \"coude\" dans le graphique\n",
    "\n",
    "# 2. Application de DBSCAN\n",
    "eps = 4 # À ajuster en fonction du graphique\n",
    "min_samples = 5  # À ajuster selon vos besoins\n",
    "\n",
    "dbscan = DBSCAN(eps=eps, min_samples=min_samples)\n",
    "dbscan_labels = dbscan.fit_predict(X_scaled)\n",
    "\n",
    "# 3. Ajout des labels au DataFrame\n",
    "data['DBSCAN_Cluster'] = dbscan_labels\n",
    "\n",
    "# 4. Analyse des clusters\n",
    "n_clusters = len(set(dbscan_labels)) - (1 if -1 in dbscan_labels else 0)\n",
    "n_noise = list(dbscan_labels).count(-1)\n",
    "\n",
    "print(f\"Nombre de clusters: {n_clusters}\")\n",
    "print(f\"Nombre de points de bruit: {n_noise}\")\n",
    "\n",
    "for cluster in set(dbscan_labels):\n",
    "    if cluster != -1:\n",
    "        cluster_data = data[data['DBSCAN_Cluster'] == cluster]\n",
    "        print(f\"\\nCluster {cluster}:\")\n",
    "        print(cluster_data[features].mean())\n",
    "\n",
    "# 5. Visualisation 2D\n",
    "plt.figure(figsize=(10, 8))\n",
    "scatter = plt.scatter(X_scaled[:, 0], X_scaled[:, 1], c=dbscan_labels, cmap='viridis')\n",
    "plt.xlabel(features[0])\n",
    "plt.ylabel(features[1])\n",
    "plt.title('Clusters DBSCAN')\n",
    "plt.colorbar(scatter)\n",
    "plt.show()\n",
    "\n",
    "# 6. Comparaison avec K-means\n",
    "plt.figure(figsize=(16, 6))\n",
    "plt.subplot(1, 2, 1)\n",
    "plt.scatter(X_scaled[:, 0], X_scaled[:, 1], c=cluster_labels, cmap='viridis')\n",
    "plt.title('K-means Clusters')\n",
    "plt.subplot(1, 2, 2)\n",
    "plt.scatter(X_scaled[:, 0], X_scaled[:, 1], c=dbscan_labels, cmap='viridis')\n",
    "plt.title('DBSCAN Clusters')\n",
    "plt.show()\n",
    "\n",
    "# 7. Distribution des clusters\n",
    "plt.figure(figsize=(10, 6))\n",
    "sns.countplot(x='DBSCAN_Cluster', data=data)\n",
    "plt.title('Distribution des clusters DBSCAN')\n",
    "plt.show()\n",
    "\n",
    "# 8. Caractéristiques des clusters\n",
    "for feature in features:\n",
    "    plt.figure(figsize=(10, 6))\n",
    "    sns.boxplot(x='DBSCAN_Cluster', y=feature, data=data)\n",
    "    plt.title(f'Distribution de {feature} par cluster DBSCAN')\n",
    "    plt.show()"
   ]
  },
  {
   "cell_type": "code",
   "execution_count": null,
   "metadata": {},
   "outputs": [],
   "source": []
  }
 ],
 "metadata": {
  "kernelspec": {
   "display_name": "myenv",
   "language": "python",
   "name": "python3"
  },
  "language_info": {
   "codemirror_mode": {
    "name": "ipython",
    "version": 3
   },
   "file_extension": ".py",
   "mimetype": "text/x-python",
   "name": "python",
   "nbconvert_exporter": "python",
   "pygments_lexer": "ipython3",
   "version": "3.11.5"
  }
 },
 "nbformat": 4,
 "nbformat_minor": 2
}
