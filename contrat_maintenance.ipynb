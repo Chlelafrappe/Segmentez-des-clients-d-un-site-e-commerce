{
 "cells": [
  {
   "cell_type": "code",
   "execution_count": 2,
   "metadata": {},
   "outputs": [],
   "source": [
    "import numpy as np\n",
    "import pandas as pd\n",
    "from sklearn.cluster import AgglomerativeClustering\n",
    "from sklearn.preprocessing import StandardScaler\n",
    "from sklearn.metrics import adjusted_rand_score\n",
    "from scipy import stats\n",
    "import matplotlib.pyplot as plt\n",
    "import seaborn as sns"
   ]
  },
  {
   "cell_type": "code",
   "execution_count": 3,
   "metadata": {},
   "outputs": [],
   "source": [
    "\n",
    "# 1. Préparation des données\n",
    "def load_data(period):\n",
    "    # Simulons des données pour différentes périodes\n",
    "    # Remplacez ceci par votre propre chargement de données\n",
    "    np.random.seed(period)\n",
    "    return pd.DataFrame({\n",
    "        'feature1': np.random.normal(0, 1, 1000),\n",
    "        'feature2': np.random.normal(0, 1, 1000),\n",
    "        'feature3': np.random.normal(0, 1, 1000)\n",
    "    })\n",
    "\n",
    "# 2. Fonction pour le clustering\n",
    "def perform_clustering(data):\n",
    "    scaler = StandardScaler()\n",
    "    X_normalized = scaler.fit_transform(data)\n",
    "    clustering = AgglomerativeClustering(n_clusters=5)  # Ajustez le nombre de clusters selon votre modèle optimisé\n",
    "    return clustering.fit_predict(X_normalized)\n",
    "\n"
   ]
  },
  {
   "cell_type": "code",
   "execution_count": null,
   "metadata": {},
   "outputs": [],
   "source": [
    "# 3. Simulation de l'évolution temporelle\n",
    "n_periods = 12\n",
    "all_data = [load_data(i) for i in range(n_periods)]\n",
    "all_clusters = [perform_clustering(data) for data in all_data]\n",
    "\n",
    "# 4. Calcul de l'ARI\n",
    "ari_scores = [adjusted_rand_score(all_clusters[0], clusters) for clusters in all_clusters]\n",
    "\n",
    "# 5. Analyse de l'évolution des features\n",
    "ks_stats = []\n",
    "for feature in all_data[0].columns:\n",
    "    ks_stats.append([stats.ks_2samp(all_data[0][feature], data[feature]).statistic for data in all_data])\n",
    "\n",
    "# 6. Visualisation des résultats\n",
    "plt.figure(figsize=(12, 6))\n",
    "plt.plot(range(n_periods), ari_scores)\n",
    "plt.title(\"Évolution de l'ARI dans le temps\")\n",
    "plt.xlabel(\"Période\")\n",
    "plt.ylabel(\"ARI Score\")\n",
    "plt.show()\n",
    "\n",
    "plt.figure(figsize=(12, 6))\n",
    "for i, feature in enumerate(all_data[0].columns):\n",
    "    plt.plot(range(n_periods), ks_stats[i], label=feature)\n",
    "plt.title(\"Évolution de la statistique KS dans le temps\")\n",
    "plt.xlabel(\"Période\")\n",
    "plt.ylabel(\"Statistique KS\")\n",
    "plt.legend()\n",
    "plt.show()\n",
    "\n",
    "# Affichage des distributions pour chaque feature\n",
    "for feature in all_data[0].columns:\n",
    "    plt.figure(figsize=(12, 6))\n",
    "    for i in [0, n_periods//2, n_periods-1]:  # Début, milieu, fin\n",
    "        sns.kdeplot(all_data[i][feature], label=f'Période {i}')\n",
    "    plt.title(f\"Évolution de la distribution de {feature}\")\n",
    "    plt.xlabel(feature)\n",
    "    plt.ylabel(\"Densité\")\n",
    "    plt.legend()\n",
    "    plt.show()"
   ]
  }
 ],
 "metadata": {
  "kernelspec": {
   "display_name": "myenv",
   "language": "python",
   "name": "python3"
  },
  "language_info": {
   "codemirror_mode": {
    "name": "ipython",
    "version": 3
   },
   "file_extension": ".py",
   "mimetype": "text/x-python",
   "name": "python",
   "nbconvert_exporter": "python",
   "pygments_lexer": "ipython3",
   "version": "3.11.5"
  }
 },
 "nbformat": 4,
 "nbformat_minor": 2
}
