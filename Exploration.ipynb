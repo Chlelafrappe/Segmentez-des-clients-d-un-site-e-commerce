{
 "cells": [
  {
   "cell_type": "code",
   "execution_count": 1,
   "metadata": {},
   "outputs": [
    {
     "name": "stderr",
     "output_type": "stream",
     "text": [
      "/Users/chloeroudaut/anaconda3/envs/myenv/lib/python3.11/site-packages/pandas/core/arrays/masked.py:60: UserWarning: Pandas requires version '1.3.6' or newer of 'bottleneck' (version '1.3.5' currently installed).\n",
      "  from pandas.core import (\n"
     ]
    }
   ],
   "source": [
    "import os\n",
    "\n",
    "import pandas as pd\n",
    "import numpy as np\n",
    "from math import radians, cos, sin, asin, sqrt\n",
    "\n",
    "import matplotlib.pyplot as plt\n",
    "import matplotlib.dates as mdates\n",
    "import matplotlib.image as mpimg\n",
    "import urllib.request\n",
    "import seaborn as sns\n",
    "import plotly.express as px\n",
    "import folium\n",
    "from random import sample\n",
    "\n",
    "from sklearn.preprocessing import StandardScaler\n",
    "from sklearn.decomposition import PCA\n",
    "\n",
    "import warnings\n",
    "warnings.filterwarnings(\"ignore\")"
   ]
  },
  {
   "cell_type": "code",
   "execution_count": 2,
   "metadata": {},
   "outputs": [],
   "source": [
    "#importation des données:\n",
    "customers = pd.read_csv('olist_customers_dataset.csv')\n",
    "geolocalisation = pd.read_csv('olist_geolocation_dataset.csv')\n",
    "order_items = pd.read_csv('olist_order_items_dataset.csv')\n",
    "order_payments = pd.read_csv('olist_order_payments_dataset.csv')\n",
    "order_reviews = pd.read_csv('olist_order_reviews_dataset.csv')\n",
    "orders = pd.read_csv('olist_orders_dataset.csv')\n",
    "products = pd.read_csv('olist_products_dataset.csv')\n",
    "sellers = pd.read_csv('olist_sellers_dataset.csv')\n",
    "translation = pd.read_csv('product_category_name_translation.csv')"
   ]
  },
  {
   "cell_type": "code",
   "execution_count": 11,
   "metadata": {},
   "outputs": [
    {
     "data": {
      "text/plain": [
       "Index(['order_id', 'customer_id', 'order_status', 'order_purchase_timestamp',\n",
       "       'order_approved_at', 'order_delivered_carrier_date',\n",
       "       'order_delivered_customer_date', 'order_estimated_delivery_date'],\n",
       "      dtype='object')"
      ]
     },
     "execution_count": 11,
     "metadata": {},
     "output_type": "execute_result"
    }
   ],
   "source": [
    "orders.columns"
   ]
  },
  {
   "cell_type": "code",
   "execution_count": 5,
   "metadata": {},
   "outputs": [
    {
     "data": {
      "text/plain": [
       "Index(['order_id', 'order_item_id', 'product_id', 'seller_id',\n",
       "       'shipping_limit_date', 'price', 'freight_value'],\n",
       "      dtype='object')"
      ]
     },
     "execution_count": 5,
     "metadata": {},
     "output_type": "execute_result"
    }
   ],
   "source": [
    "order_items.columns"
   ]
  },
  {
   "cell_type": "code",
   "execution_count": 6,
   "metadata": {},
   "outputs": [
    {
     "data": {
      "text/plain": [
       "Index(['order_id', 'payment_sequential', 'payment_type',\n",
       "       'payment_installments', 'payment_value'],\n",
       "      dtype='object')"
      ]
     },
     "execution_count": 6,
     "metadata": {},
     "output_type": "execute_result"
    }
   ],
   "source": [
    "order_payments.columns"
   ]
  },
  {
   "cell_type": "code",
   "execution_count": 7,
   "metadata": {},
   "outputs": [
    {
     "data": {
      "text/plain": [
       "Index(['review_id', 'order_id', 'review_score', 'review_comment_title',\n",
       "       'review_comment_message', 'review_creation_date',\n",
       "       'review_answer_timestamp'],\n",
       "      dtype='object')"
      ]
     },
     "execution_count": 7,
     "metadata": {},
     "output_type": "execute_result"
    }
   ],
   "source": [
    "order_reviews.columns"
   ]
  },
  {
   "cell_type": "markdown",
   "metadata": {},
   "source": [
    "Merge par 'order_id'"
   ]
  },
  {
   "cell_type": "code",
   "execution_count": 3,
   "metadata": {},
   "outputs": [
    {
     "data": {
      "text/plain": [
       "Index(['customer_id', 'customer_unique_id', 'customer_zip_code_prefix',\n",
       "       'customer_city', 'customer_state'],\n",
       "      dtype='object')"
      ]
     },
     "execution_count": 3,
     "metadata": {},
     "output_type": "execute_result"
    }
   ],
   "source": [
    "customers.columns"
   ]
  },
  {
   "cell_type": "markdown",
   "metadata": {},
   "source": [
    "Merge par 'customer_id'"
   ]
  },
  {
   "cell_type": "code",
   "execution_count": 8,
   "metadata": {},
   "outputs": [
    {
     "data": {
      "text/plain": [
       "Index(['product_id', 'product_category_name', 'product_name_lenght',\n",
       "       'product_description_lenght', 'product_photos_qty', 'product_weight_g',\n",
       "       'product_length_cm', 'product_height_cm', 'product_width_cm'],\n",
       "      dtype='object')"
      ]
     },
     "execution_count": 8,
     "metadata": {},
     "output_type": "execute_result"
    }
   ],
   "source": [
    "products.columns"
   ]
  },
  {
   "cell_type": "markdown",
   "metadata": {},
   "source": [
    "Merge par 'product_id'"
   ]
  },
  {
   "cell_type": "code",
   "execution_count": 10,
   "metadata": {},
   "outputs": [
    {
     "data": {
      "text/plain": [
       "Index(['product_category_name', 'product_category_name_english'], dtype='object')"
      ]
     },
     "execution_count": 10,
     "metadata": {},
     "output_type": "execute_result"
    }
   ],
   "source": [
    "translation.columns"
   ]
  },
  {
   "cell_type": "markdown",
   "metadata": {},
   "source": [
    "Merge par 'product_category_name'"
   ]
  },
  {
   "cell_type": "code",
   "execution_count": 9,
   "metadata": {},
   "outputs": [
    {
     "data": {
      "text/plain": [
       "Index(['seller_id', 'seller_zip_code_prefix', 'seller_city', 'seller_state'], dtype='object')"
      ]
     },
     "execution_count": 9,
     "metadata": {},
     "output_type": "execute_result"
    }
   ],
   "source": [
    "sellers.columns"
   ]
  },
  {
   "cell_type": "markdown",
   "metadata": {},
   "source": [
    "Merge par 'seller_id'"
   ]
  },
  {
   "cell_type": "code",
   "execution_count": 4,
   "metadata": {},
   "outputs": [
    {
     "data": {
      "text/plain": [
       "Index(['geolocation_zip_code_prefix', 'geolocation_lat', 'geolocation_lng',\n",
       "       'geolocation_city', 'geolocation_state'],\n",
       "      dtype='object')"
      ]
     },
     "execution_count": 4,
     "metadata": {},
     "output_type": "execute_result"
    }
   ],
   "source": [
    "geolocalisation.columns"
   ]
  },
  {
   "cell_type": "markdown",
   "metadata": {},
   "source": [
    "Merge par 'geolocation_zip_code_prefix' et customer_zip_code_prefix"
   ]
  },
  {
   "cell_type": "markdown",
   "metadata": {},
   "source": [
    "Pas de lien avec des Data pour Sellers et Geolocalisation"
   ]
  },
  {
   "cell_type": "markdown",
   "metadata": {},
   "source": [
    "### Merge"
   ]
  },
  {
   "cell_type": "code",
   "execution_count": 12,
   "metadata": {},
   "outputs": [],
   "source": [
    "data = pd.merge(orders, order_items, on=\"order_id\")"
   ]
  },
  {
   "cell_type": "code",
   "execution_count": 13,
   "metadata": {},
   "outputs": [],
   "source": [
    "data = pd.merge(data, order_payments, on=\"order_id\")"
   ]
  },
  {
   "cell_type": "code",
   "execution_count": 14,
   "metadata": {},
   "outputs": [],
   "source": [
    "data = pd.merge(data, order_reviews, on=\"order_id\")"
   ]
  },
  {
   "cell_type": "code",
   "execution_count": 15,
   "metadata": {},
   "outputs": [],
   "source": [
    "data = pd.merge(data, customers, on=\"customer_id\")"
   ]
  },
  {
   "cell_type": "code",
   "execution_count": 16,
   "metadata": {},
   "outputs": [],
   "source": [
    "data = pd.merge(data, products, on=\"product_id\")"
   ]
  },
  {
   "cell_type": "code",
   "execution_count": 17,
   "metadata": {},
   "outputs": [],
   "source": [
    "data = pd.merge(data, translation , on=\"product_category_name\")"
   ]
  },
  {
   "cell_type": "code",
   "execution_count": 19,
   "metadata": {},
   "outputs": [],
   "source": [
    "data = pd.merge(data, sellers , on=\"seller_id\")"
   ]
  },
  {
   "cell_type": "code",
   "execution_count": 21,
   "metadata": {},
   "outputs": [
    {
     "data": {
      "text/plain": [
       "Index(['order_id', 'customer_id', 'order_status', 'order_purchase_timestamp',\n",
       "       'order_approved_at', 'order_delivered_carrier_date',\n",
       "       'order_delivered_customer_date', 'order_estimated_delivery_date',\n",
       "       'order_item_id', 'product_id', 'seller_id', 'shipping_limit_date',\n",
       "       'price', 'freight_value', 'payment_sequential', 'payment_type',\n",
       "       'payment_installments', 'payment_value', 'review_id', 'review_score',\n",
       "       'review_comment_title', 'review_comment_message',\n",
       "       'review_creation_date', 'review_answer_timestamp', 'customer_unique_id',\n",
       "       'customer_zip_code_prefix', 'customer_city', 'customer_state',\n",
       "       'product_category_name', 'product_name_lenght',\n",
       "       'product_description_lenght', 'product_photos_qty', 'product_weight_g',\n",
       "       'product_length_cm', 'product_height_cm', 'product_width_cm',\n",
       "       'product_category_name_english', 'seller_zip_code_prefix',\n",
       "       'seller_city', 'seller_state'],\n",
       "      dtype='object')"
      ]
     },
     "execution_count": 21,
     "metadata": {},
     "output_type": "execute_result"
    }
   ],
   "source": [
    "data.columns"
   ]
  },
  {
   "cell_type": "code",
   "execution_count": 20,
   "metadata": {},
   "outputs": [
    {
     "data": {
      "text/html": [
       "<div>\n",
       "<style scoped>\n",
       "    .dataframe tbody tr th:only-of-type {\n",
       "        vertical-align: middle;\n",
       "    }\n",
       "\n",
       "    .dataframe tbody tr th {\n",
       "        vertical-align: top;\n",
       "    }\n",
       "\n",
       "    .dataframe thead th {\n",
       "        text-align: right;\n",
       "    }\n",
       "</style>\n",
       "<table border=\"1\" class=\"dataframe\">\n",
       "  <thead>\n",
       "    <tr style=\"text-align: right;\">\n",
       "      <th></th>\n",
       "      <th>order_id</th>\n",
       "      <th>customer_id</th>\n",
       "      <th>order_status</th>\n",
       "      <th>order_purchase_timestamp</th>\n",
       "      <th>order_approved_at</th>\n",
       "      <th>order_delivered_carrier_date</th>\n",
       "      <th>order_delivered_customer_date</th>\n",
       "      <th>order_estimated_delivery_date</th>\n",
       "      <th>order_item_id</th>\n",
       "      <th>product_id</th>\n",
       "      <th>...</th>\n",
       "      <th>product_description_lenght</th>\n",
       "      <th>product_photos_qty</th>\n",
       "      <th>product_weight_g</th>\n",
       "      <th>product_length_cm</th>\n",
       "      <th>product_height_cm</th>\n",
       "      <th>product_width_cm</th>\n",
       "      <th>product_category_name_english</th>\n",
       "      <th>seller_zip_code_prefix</th>\n",
       "      <th>seller_city</th>\n",
       "      <th>seller_state</th>\n",
       "    </tr>\n",
       "  </thead>\n",
       "  <tbody>\n",
       "    <tr>\n",
       "      <th>0</th>\n",
       "      <td>e481f51cbdc54678b7cc49136f2d6af7</td>\n",
       "      <td>9ef432eb6251297304e76186b10a928d</td>\n",
       "      <td>delivered</td>\n",
       "      <td>2017-10-02 10:56:33</td>\n",
       "      <td>2017-10-02 11:07:15</td>\n",
       "      <td>2017-10-04 19:55:00</td>\n",
       "      <td>2017-10-10 21:25:13</td>\n",
       "      <td>2017-10-18 00:00:00</td>\n",
       "      <td>1</td>\n",
       "      <td>87285b34884572647811a353c7ac498a</td>\n",
       "      <td>...</td>\n",
       "      <td>268.0</td>\n",
       "      <td>4.0</td>\n",
       "      <td>500.0</td>\n",
       "      <td>19.0</td>\n",
       "      <td>8.0</td>\n",
       "      <td>13.0</td>\n",
       "      <td>housewares</td>\n",
       "      <td>9350</td>\n",
       "      <td>maua</td>\n",
       "      <td>SP</td>\n",
       "    </tr>\n",
       "    <tr>\n",
       "      <th>1</th>\n",
       "      <td>e481f51cbdc54678b7cc49136f2d6af7</td>\n",
       "      <td>9ef432eb6251297304e76186b10a928d</td>\n",
       "      <td>delivered</td>\n",
       "      <td>2017-10-02 10:56:33</td>\n",
       "      <td>2017-10-02 11:07:15</td>\n",
       "      <td>2017-10-04 19:55:00</td>\n",
       "      <td>2017-10-10 21:25:13</td>\n",
       "      <td>2017-10-18 00:00:00</td>\n",
       "      <td>1</td>\n",
       "      <td>87285b34884572647811a353c7ac498a</td>\n",
       "      <td>...</td>\n",
       "      <td>268.0</td>\n",
       "      <td>4.0</td>\n",
       "      <td>500.0</td>\n",
       "      <td>19.0</td>\n",
       "      <td>8.0</td>\n",
       "      <td>13.0</td>\n",
       "      <td>housewares</td>\n",
       "      <td>9350</td>\n",
       "      <td>maua</td>\n",
       "      <td>SP</td>\n",
       "    </tr>\n",
       "    <tr>\n",
       "      <th>2</th>\n",
       "      <td>e481f51cbdc54678b7cc49136f2d6af7</td>\n",
       "      <td>9ef432eb6251297304e76186b10a928d</td>\n",
       "      <td>delivered</td>\n",
       "      <td>2017-10-02 10:56:33</td>\n",
       "      <td>2017-10-02 11:07:15</td>\n",
       "      <td>2017-10-04 19:55:00</td>\n",
       "      <td>2017-10-10 21:25:13</td>\n",
       "      <td>2017-10-18 00:00:00</td>\n",
       "      <td>1</td>\n",
       "      <td>87285b34884572647811a353c7ac498a</td>\n",
       "      <td>...</td>\n",
       "      <td>268.0</td>\n",
       "      <td>4.0</td>\n",
       "      <td>500.0</td>\n",
       "      <td>19.0</td>\n",
       "      <td>8.0</td>\n",
       "      <td>13.0</td>\n",
       "      <td>housewares</td>\n",
       "      <td>9350</td>\n",
       "      <td>maua</td>\n",
       "      <td>SP</td>\n",
       "    </tr>\n",
       "    <tr>\n",
       "      <th>3</th>\n",
       "      <td>53cdb2fc8bc7dce0b6741e2150273451</td>\n",
       "      <td>b0830fb4747a6c6d20dea0b8c802d7ef</td>\n",
       "      <td>delivered</td>\n",
       "      <td>2018-07-24 20:41:37</td>\n",
       "      <td>2018-07-26 03:24:27</td>\n",
       "      <td>2018-07-26 14:31:00</td>\n",
       "      <td>2018-08-07 15:27:45</td>\n",
       "      <td>2018-08-13 00:00:00</td>\n",
       "      <td>1</td>\n",
       "      <td>595fac2a385ac33a80bd5114aec74eb8</td>\n",
       "      <td>...</td>\n",
       "      <td>178.0</td>\n",
       "      <td>1.0</td>\n",
       "      <td>400.0</td>\n",
       "      <td>19.0</td>\n",
       "      <td>13.0</td>\n",
       "      <td>19.0</td>\n",
       "      <td>perfumery</td>\n",
       "      <td>31570</td>\n",
       "      <td>belo horizonte</td>\n",
       "      <td>SP</td>\n",
       "    </tr>\n",
       "    <tr>\n",
       "      <th>4</th>\n",
       "      <td>47770eb9100c2d0c44946d9cf07ec65d</td>\n",
       "      <td>41ce2a54c0b03bf3443c3d931a367089</td>\n",
       "      <td>delivered</td>\n",
       "      <td>2018-08-08 08:38:49</td>\n",
       "      <td>2018-08-08 08:55:23</td>\n",
       "      <td>2018-08-08 13:50:00</td>\n",
       "      <td>2018-08-17 18:06:29</td>\n",
       "      <td>2018-09-04 00:00:00</td>\n",
       "      <td>1</td>\n",
       "      <td>aa4383b373c6aca5d8797843e5594415</td>\n",
       "      <td>...</td>\n",
       "      <td>232.0</td>\n",
       "      <td>1.0</td>\n",
       "      <td>420.0</td>\n",
       "      <td>24.0</td>\n",
       "      <td>19.0</td>\n",
       "      <td>21.0</td>\n",
       "      <td>auto</td>\n",
       "      <td>14840</td>\n",
       "      <td>guariba</td>\n",
       "      <td>SP</td>\n",
       "    </tr>\n",
       "    <tr>\n",
       "      <th>...</th>\n",
       "      <td>...</td>\n",
       "      <td>...</td>\n",
       "      <td>...</td>\n",
       "      <td>...</td>\n",
       "      <td>...</td>\n",
       "      <td>...</td>\n",
       "      <td>...</td>\n",
       "      <td>...</td>\n",
       "      <td>...</td>\n",
       "      <td>...</td>\n",
       "      <td>...</td>\n",
       "      <td>...</td>\n",
       "      <td>...</td>\n",
       "      <td>...</td>\n",
       "      <td>...</td>\n",
       "      <td>...</td>\n",
       "      <td>...</td>\n",
       "      <td>...</td>\n",
       "      <td>...</td>\n",
       "      <td>...</td>\n",
       "      <td>...</td>\n",
       "    </tr>\n",
       "    <tr>\n",
       "      <th>115604</th>\n",
       "      <td>63943bddc261676b46f01ca7ac2f7bd8</td>\n",
       "      <td>1fca14ff2861355f6e5f14306ff977a7</td>\n",
       "      <td>delivered</td>\n",
       "      <td>2018-02-06 12:58:58</td>\n",
       "      <td>2018-02-06 13:10:37</td>\n",
       "      <td>2018-02-07 23:22:42</td>\n",
       "      <td>2018-02-28 17:37:56</td>\n",
       "      <td>2018-03-02 00:00:00</td>\n",
       "      <td>1</td>\n",
       "      <td>f1d4ce8c6dd66c47bbaa8c6781c2a923</td>\n",
       "      <td>...</td>\n",
       "      <td>828.0</td>\n",
       "      <td>4.0</td>\n",
       "      <td>4950.0</td>\n",
       "      <td>40.0</td>\n",
       "      <td>10.0</td>\n",
       "      <td>40.0</td>\n",
       "      <td>baby</td>\n",
       "      <td>17602</td>\n",
       "      <td>tupa</td>\n",
       "      <td>SP</td>\n",
       "    </tr>\n",
       "    <tr>\n",
       "      <th>115605</th>\n",
       "      <td>83c1379a015df1e13d02aae0204711ab</td>\n",
       "      <td>1aa71eb042121263aafbe80c1b562c9c</td>\n",
       "      <td>delivered</td>\n",
       "      <td>2017-08-27 14:46:43</td>\n",
       "      <td>2017-08-27 15:04:16</td>\n",
       "      <td>2017-08-28 20:52:26</td>\n",
       "      <td>2017-09-21 11:24:17</td>\n",
       "      <td>2017-09-27 00:00:00</td>\n",
       "      <td>1</td>\n",
       "      <td>b80910977a37536adeddd63663f916ad</td>\n",
       "      <td>...</td>\n",
       "      <td>500.0</td>\n",
       "      <td>2.0</td>\n",
       "      <td>13300.0</td>\n",
       "      <td>32.0</td>\n",
       "      <td>90.0</td>\n",
       "      <td>22.0</td>\n",
       "      <td>home_appliances_2</td>\n",
       "      <td>8290</td>\n",
       "      <td>sao paulo</td>\n",
       "      <td>SP</td>\n",
       "    </tr>\n",
       "    <tr>\n",
       "      <th>115606</th>\n",
       "      <td>11c177c8e97725db2631073c19f07b62</td>\n",
       "      <td>b331b74b18dc79bcdf6532d51e1637c1</td>\n",
       "      <td>delivered</td>\n",
       "      <td>2018-01-08 21:28:27</td>\n",
       "      <td>2018-01-08 21:36:21</td>\n",
       "      <td>2018-01-12 15:35:03</td>\n",
       "      <td>2018-01-25 23:32:54</td>\n",
       "      <td>2018-02-15 00:00:00</td>\n",
       "      <td>1</td>\n",
       "      <td>d1c427060a0f73f6b889a5c7c61f2ac4</td>\n",
       "      <td>...</td>\n",
       "      <td>1893.0</td>\n",
       "      <td>1.0</td>\n",
       "      <td>6550.0</td>\n",
       "      <td>20.0</td>\n",
       "      <td>20.0</td>\n",
       "      <td>20.0</td>\n",
       "      <td>computers_accessories</td>\n",
       "      <td>37175</td>\n",
       "      <td>ilicinea</td>\n",
       "      <td>MG</td>\n",
       "    </tr>\n",
       "    <tr>\n",
       "      <th>115607</th>\n",
       "      <td>11c177c8e97725db2631073c19f07b62</td>\n",
       "      <td>b331b74b18dc79bcdf6532d51e1637c1</td>\n",
       "      <td>delivered</td>\n",
       "      <td>2018-01-08 21:28:27</td>\n",
       "      <td>2018-01-08 21:36:21</td>\n",
       "      <td>2018-01-12 15:35:03</td>\n",
       "      <td>2018-01-25 23:32:54</td>\n",
       "      <td>2018-02-15 00:00:00</td>\n",
       "      <td>2</td>\n",
       "      <td>d1c427060a0f73f6b889a5c7c61f2ac4</td>\n",
       "      <td>...</td>\n",
       "      <td>1893.0</td>\n",
       "      <td>1.0</td>\n",
       "      <td>6550.0</td>\n",
       "      <td>20.0</td>\n",
       "      <td>20.0</td>\n",
       "      <td>20.0</td>\n",
       "      <td>computers_accessories</td>\n",
       "      <td>37175</td>\n",
       "      <td>ilicinea</td>\n",
       "      <td>MG</td>\n",
       "    </tr>\n",
       "    <tr>\n",
       "      <th>115608</th>\n",
       "      <td>66dea50a8b16d9b4dee7af250b4be1a5</td>\n",
       "      <td>edb027a75a1449115f6b43211ae02a24</td>\n",
       "      <td>delivered</td>\n",
       "      <td>2018-03-08 20:57:30</td>\n",
       "      <td>2018-03-09 11:20:28</td>\n",
       "      <td>2018-03-09 22:11:59</td>\n",
       "      <td>2018-03-16 13:08:30</td>\n",
       "      <td>2018-04-03 00:00:00</td>\n",
       "      <td>1</td>\n",
       "      <td>006619bbed68b000c8ba3f8725d5409e</td>\n",
       "      <td>...</td>\n",
       "      <td>569.0</td>\n",
       "      <td>1.0</td>\n",
       "      <td>150.0</td>\n",
       "      <td>16.0</td>\n",
       "      <td>7.0</td>\n",
       "      <td>15.0</td>\n",
       "      <td>health_beauty</td>\n",
       "      <td>14407</td>\n",
       "      <td>franca</td>\n",
       "      <td>SP</td>\n",
       "    </tr>\n",
       "  </tbody>\n",
       "</table>\n",
       "<p>115609 rows × 40 columns</p>\n",
       "</div>"
      ],
      "text/plain": [
       "                                order_id                       customer_id  \\\n",
       "0       e481f51cbdc54678b7cc49136f2d6af7  9ef432eb6251297304e76186b10a928d   \n",
       "1       e481f51cbdc54678b7cc49136f2d6af7  9ef432eb6251297304e76186b10a928d   \n",
       "2       e481f51cbdc54678b7cc49136f2d6af7  9ef432eb6251297304e76186b10a928d   \n",
       "3       53cdb2fc8bc7dce0b6741e2150273451  b0830fb4747a6c6d20dea0b8c802d7ef   \n",
       "4       47770eb9100c2d0c44946d9cf07ec65d  41ce2a54c0b03bf3443c3d931a367089   \n",
       "...                                  ...                               ...   \n",
       "115604  63943bddc261676b46f01ca7ac2f7bd8  1fca14ff2861355f6e5f14306ff977a7   \n",
       "115605  83c1379a015df1e13d02aae0204711ab  1aa71eb042121263aafbe80c1b562c9c   \n",
       "115606  11c177c8e97725db2631073c19f07b62  b331b74b18dc79bcdf6532d51e1637c1   \n",
       "115607  11c177c8e97725db2631073c19f07b62  b331b74b18dc79bcdf6532d51e1637c1   \n",
       "115608  66dea50a8b16d9b4dee7af250b4be1a5  edb027a75a1449115f6b43211ae02a24   \n",
       "\n",
       "       order_status order_purchase_timestamp    order_approved_at  \\\n",
       "0         delivered      2017-10-02 10:56:33  2017-10-02 11:07:15   \n",
       "1         delivered      2017-10-02 10:56:33  2017-10-02 11:07:15   \n",
       "2         delivered      2017-10-02 10:56:33  2017-10-02 11:07:15   \n",
       "3         delivered      2018-07-24 20:41:37  2018-07-26 03:24:27   \n",
       "4         delivered      2018-08-08 08:38:49  2018-08-08 08:55:23   \n",
       "...             ...                      ...                  ...   \n",
       "115604    delivered      2018-02-06 12:58:58  2018-02-06 13:10:37   \n",
       "115605    delivered      2017-08-27 14:46:43  2017-08-27 15:04:16   \n",
       "115606    delivered      2018-01-08 21:28:27  2018-01-08 21:36:21   \n",
       "115607    delivered      2018-01-08 21:28:27  2018-01-08 21:36:21   \n",
       "115608    delivered      2018-03-08 20:57:30  2018-03-09 11:20:28   \n",
       "\n",
       "       order_delivered_carrier_date order_delivered_customer_date  \\\n",
       "0               2017-10-04 19:55:00           2017-10-10 21:25:13   \n",
       "1               2017-10-04 19:55:00           2017-10-10 21:25:13   \n",
       "2               2017-10-04 19:55:00           2017-10-10 21:25:13   \n",
       "3               2018-07-26 14:31:00           2018-08-07 15:27:45   \n",
       "4               2018-08-08 13:50:00           2018-08-17 18:06:29   \n",
       "...                             ...                           ...   \n",
       "115604          2018-02-07 23:22:42           2018-02-28 17:37:56   \n",
       "115605          2017-08-28 20:52:26           2017-09-21 11:24:17   \n",
       "115606          2018-01-12 15:35:03           2018-01-25 23:32:54   \n",
       "115607          2018-01-12 15:35:03           2018-01-25 23:32:54   \n",
       "115608          2018-03-09 22:11:59           2018-03-16 13:08:30   \n",
       "\n",
       "       order_estimated_delivery_date  order_item_id  \\\n",
       "0                2017-10-18 00:00:00              1   \n",
       "1                2017-10-18 00:00:00              1   \n",
       "2                2017-10-18 00:00:00              1   \n",
       "3                2018-08-13 00:00:00              1   \n",
       "4                2018-09-04 00:00:00              1   \n",
       "...                              ...            ...   \n",
       "115604           2018-03-02 00:00:00              1   \n",
       "115605           2017-09-27 00:00:00              1   \n",
       "115606           2018-02-15 00:00:00              1   \n",
       "115607           2018-02-15 00:00:00              2   \n",
       "115608           2018-04-03 00:00:00              1   \n",
       "\n",
       "                              product_id  ... product_description_lenght  \\\n",
       "0       87285b34884572647811a353c7ac498a  ...                      268.0   \n",
       "1       87285b34884572647811a353c7ac498a  ...                      268.0   \n",
       "2       87285b34884572647811a353c7ac498a  ...                      268.0   \n",
       "3       595fac2a385ac33a80bd5114aec74eb8  ...                      178.0   \n",
       "4       aa4383b373c6aca5d8797843e5594415  ...                      232.0   \n",
       "...                                  ...  ...                        ...   \n",
       "115604  f1d4ce8c6dd66c47bbaa8c6781c2a923  ...                      828.0   \n",
       "115605  b80910977a37536adeddd63663f916ad  ...                      500.0   \n",
       "115606  d1c427060a0f73f6b889a5c7c61f2ac4  ...                     1893.0   \n",
       "115607  d1c427060a0f73f6b889a5c7c61f2ac4  ...                     1893.0   \n",
       "115608  006619bbed68b000c8ba3f8725d5409e  ...                      569.0   \n",
       "\n",
       "       product_photos_qty  product_weight_g  product_length_cm  \\\n",
       "0                     4.0             500.0               19.0   \n",
       "1                     4.0             500.0               19.0   \n",
       "2                     4.0             500.0               19.0   \n",
       "3                     1.0             400.0               19.0   \n",
       "4                     1.0             420.0               24.0   \n",
       "...                   ...               ...                ...   \n",
       "115604                4.0            4950.0               40.0   \n",
       "115605                2.0           13300.0               32.0   \n",
       "115606                1.0            6550.0               20.0   \n",
       "115607                1.0            6550.0               20.0   \n",
       "115608                1.0             150.0               16.0   \n",
       "\n",
       "        product_height_cm product_width_cm  product_category_name_english  \\\n",
       "0                     8.0             13.0                     housewares   \n",
       "1                     8.0             13.0                     housewares   \n",
       "2                     8.0             13.0                     housewares   \n",
       "3                    13.0             19.0                      perfumery   \n",
       "4                    19.0             21.0                           auto   \n",
       "...                   ...              ...                            ...   \n",
       "115604               10.0             40.0                           baby   \n",
       "115605               90.0             22.0              home_appliances_2   \n",
       "115606               20.0             20.0          computers_accessories   \n",
       "115607               20.0             20.0          computers_accessories   \n",
       "115608                7.0             15.0                  health_beauty   \n",
       "\n",
       "        seller_zip_code_prefix     seller_city  seller_state  \n",
       "0                         9350            maua            SP  \n",
       "1                         9350            maua            SP  \n",
       "2                         9350            maua            SP  \n",
       "3                        31570  belo horizonte            SP  \n",
       "4                        14840         guariba            SP  \n",
       "...                        ...             ...           ...  \n",
       "115604                   17602            tupa            SP  \n",
       "115605                    8290       sao paulo            SP  \n",
       "115606                   37175        ilicinea            MG  \n",
       "115607                   37175        ilicinea            MG  \n",
       "115608                   14407          franca            SP  \n",
       "\n",
       "[115609 rows x 40 columns]"
      ]
     },
     "execution_count": 20,
     "metadata": {},
     "output_type": "execute_result"
    }
   ],
   "source": [
    "data"
   ]
  },
  {
   "cell_type": "code",
   "execution_count": null,
   "metadata": {},
   "outputs": [],
   "source": []
  }
 ],
 "metadata": {
  "kernelspec": {
   "display_name": "myenv",
   "language": "python",
   "name": "python3"
  },
  "language_info": {
   "codemirror_mode": {
    "name": "ipython",
    "version": 3
   },
   "file_extension": ".py",
   "mimetype": "text/x-python",
   "name": "python",
   "nbconvert_exporter": "python",
   "pygments_lexer": "ipython3",
   "version": "3.11.5"
  }
 },
 "nbformat": 4,
 "nbformat_minor": 2
}
